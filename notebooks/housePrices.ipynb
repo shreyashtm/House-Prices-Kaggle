{
 "cells": [
  {
   "cell_type": "markdown",
   "id": "fa0935c6",
   "metadata": {},
   "source": [
    "# House Prices "
   ]
  },
  {
   "cell_type": "markdown",
   "id": "458f0cd2",
   "metadata": {},
   "source": [
    "### Using \"XGBoost\" to find out the house prices as it is a classification problem \n",
    "### As we go forward we observe that \"XGBoost\" provides better outcome than \"Random Forest\""
   ]
  },
  {
   "cell_type": "markdown",
   "id": "e0e5a522",
   "metadata": {},
   "source": [
    "##### Loading libraries"
   ]
  },
  {
   "cell_type": "code",
   "execution_count": 10,
   "id": "8a3970b6",
   "metadata": {},
   "outputs": [],
   "source": [
    "import pandas as pd\n",
    "import numpy as np\n",
    "from matplotlib import pyplot as pyplot\n",
    "import seaborn as sb\n",
    "import scipy as sci\n",
    "\n",
    "#following code is to display all the rows and columns of data(for better visual understanding)\n",
    "pd.set_option('display.max_rows', None)\n",
    "pd.set_option('display.max_columns', None)"
   ]
  },
  {
   "cell_type": "markdown",
   "id": "118f8c59",
   "metadata": {},
   "source": [
    "##### Load data "
   ]
  },
  {
   "cell_type": "code",
   "execution_count": 12,
   "id": "30f796b7",
   "metadata": {},
   "outputs": [
    {
     "name": "stdout",
     "output_type": "stream",
     "text": [
      "\u001b[34mApplications\u001b[m\u001b[m \u001b[34mUsers\u001b[m\u001b[m        \u001b[34mcores\u001b[m\u001b[m        \u001b[35mhome\u001b[m\u001b[m         \u001b[34msbin\u001b[m\u001b[m         \u001b[35mvar\u001b[m\u001b[m\n",
      "\u001b[34mLibrary\u001b[m\u001b[m      \u001b[34mVolumes\u001b[m\u001b[m      \u001b[34mdev\u001b[m\u001b[m          \u001b[34mopt\u001b[m\u001b[m          \u001b[35mtmp\u001b[m\u001b[m\n",
      "\u001b[34mSystem\u001b[m\u001b[m       \u001b[34mbin\u001b[m\u001b[m          \u001b[35metc\u001b[m\u001b[m          \u001b[34mprivate\u001b[m\u001b[m      \u001b[34musr\u001b[m\u001b[m\n"
     ]
    }
   ],
   "source": [
    "!ls"
   ]
  },
  {
   "cell_type": "code",
   "execution_count": null,
   "id": "8a14c65d",
   "metadata": {},
   "outputs": [],
   "source": []
  }
 ],
 "metadata": {
  "kernelspec": {
   "display_name": "base",
   "language": "python",
   "name": "python3"
  },
  "language_info": {
   "codemirror_mode": {
    "name": "ipython",
    "version": 3
   },
   "file_extension": ".py",
   "mimetype": "text/x-python",
   "name": "python",
   "nbconvert_exporter": "python",
   "pygments_lexer": "ipython3",
   "version": "3.11.5"
  }
 },
 "nbformat": 4,
 "nbformat_minor": 5
}
